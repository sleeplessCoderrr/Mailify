{
 "cells": [
  {
   "cell_type": "code",
   "execution_count": 2,
   "metadata": {},
   "outputs": [
    {
     "name": "stderr",
     "output_type": "stream",
     "text": [
      "Device set to use cpu\n",
      "Truncation was not explicitly activated but `max_length` is provided a specific value, please use `truncation=True` to explicitly truncate examples to max length. Defaulting to 'longest_first' truncation strategy. If you encode pairs of sequences (GLUE-style) with the tokenizer you can select this strategy more precisely by providing a specific strategy to `truncation`.\n",
      "c:\\Users\\vince\\anaconda3\\Lib\\site-packages\\transformers\\generation\\configuration_utils.py:676: UserWarning: `num_beams` is set to 1. However, `early_stopping` is set to `True` -- this flag is only used in beam-based generation modes. You should set `num_beams>1` or unset `early_stopping`.\n",
      "  warnings.warn(\n"
     ]
    },
    {
     "name": "stdout",
     "output_type": "stream",
     "text": [
      "\n",
      "    Write an email applying for a job:\n",
      "\n",
      "    Dear Bob,\n",
      "\n",
      "    I am writing to apply for the position of Data Scientist at your company.\n",
      "\n",
      "    Sincerely,\n",
      "    Alice\n",
      "                                                                                                   \n"
     ]
    }
   ],
   "source": [
    "from transformers import AutoTokenizer, AutoModelForCausalLM\n",
    "\n",
    "model_path = \"../model/email_generator/\"\n",
    "tokenizer = AutoTokenizer.from_pretrained(model_path)\n",
    "model = AutoModelForCausalLM.from_pretrained(model_path)\n",
    "\n",
    "generator = pipeline(\n",
    "    'text-generation', \n",
    "    model=model, \n",
    "    tokenizer=tokenizer,\n",
    ")\n",
    "\n",
    "def generate_job_application_email(sender_name, receiver_name, main_point, max_length=150):\n",
    "    \"\"\"\n",
    "    Generates a job application email based on the provided details.\n",
    "\n",
    "    Args:\n",
    "        sender_name (str): Name of the sender.\n",
    "        receiver_name (str): Name of the receiver.\n",
    "        main_point (str): The main point or purpose of the email.\n",
    "        max_length (int): The maximum length of the generated email.\n",
    "\n",
    "    Returns:\n",
    "        str: The generated email text.\n",
    "    \"\"\"\n",
    "    # Construct the prompt\n",
    "    prompt = f\"\"\"\n",
    "    Write an email applying for a job:\n",
    "\n",
    "    Dear {receiver_name},\n",
    "\n",
    "    {main_point}\n",
    "\n",
    "    Sincerely,\n",
    "    {sender_name}\n",
    "    \"\"\"\n",
    "\n",
    "    result = generator(\n",
    "        prompt,\n",
    "        max_length=max_length,\n",
    "        do_sample=False, \n",
    "        early_stopping=True,\n",
    "    )\n",
    "    \n",
    "    return result[0]['generated_text']\n",
    "\n",
    "email = generate_job_application_email(\"Alice\", \"Bob\", \"I am writing to apply for the position of Data Scientist at your company.\")\n",
    "print(email)"
   ]
  }
 ],
 "metadata": {
  "kernelspec": {
   "display_name": "base",
   "language": "python",
   "name": "python3"
  },
  "language_info": {
   "codemirror_mode": {
    "name": "ipython",
    "version": 3
   },
   "file_extension": ".py",
   "mimetype": "text/x-python",
   "name": "python",
   "nbconvert_exporter": "python",
   "pygments_lexer": "ipython3",
   "version": "3.12.4"
  }
 },
 "nbformat": 4,
 "nbformat_minor": 2
}
